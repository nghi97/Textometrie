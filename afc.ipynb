{
 "cells": [
  {
   "cell_type": "code",
   "execution_count": 1,
   "id": "71c3fbbc",
   "metadata": {},
   "outputs": [],
   "source": [
    "import pandas as pd"
   ]
  },
  {
   "cell_type": "code",
   "execution_count": 3,
   "id": "ac2a174e",
   "metadata": {},
   "outputs": [],
   "source": [
    "texto=pd.read_csv('C://Users//User//TXM//Textofinale.csv',index_col=0)"
   ]
  },
  {
   "cell_type": "code",
   "execution_count": 4,
   "id": "ebf9cd0c",
   "metadata": {},
   "outputs": [
    {
     "data": {
      "text/html": [
       "<div>\n",
       "<style scoped>\n",
       "    .dataframe tbody tr th:only-of-type {\n",
       "        vertical-align: middle;\n",
       "    }\n",
       "\n",
       "    .dataframe tbody tr th {\n",
       "        vertical-align: top;\n",
       "    }\n",
       "\n",
       "    .dataframe thead th {\n",
       "        text-align: right;\n",
       "    }\n",
       "</style>\n",
       "<table border=\"1\" class=\"dataframe\">\n",
       "  <thead>\n",
       "    <tr style=\"text-align: right;\">\n",
       "      <th></th>\n",
       "      <th>CULTURE</th>\n",
       "      <th>INNOVATION &amp; TECHNOLOGIE</th>\n",
       "      <th>VIOLENCE &amp; CONFLIT</th>\n",
       "      <th>ENVIRONNEMENT</th>\n",
       "      <th>Total</th>\n",
       "    </tr>\n",
       "  </thead>\n",
       "  <tbody>\n",
       "    <tr>\n",
       "      <th>plus</th>\n",
       "      <td>7</td>\n",
       "      <td>9</td>\n",
       "      <td>5</td>\n",
       "      <td>4</td>\n",
       "      <td>25</td>\n",
       "    </tr>\n",
       "    <tr>\n",
       "      <th>comme</th>\n",
       "      <td>7</td>\n",
       "      <td>3</td>\n",
       "      <td>6</td>\n",
       "      <td>2</td>\n",
       "      <td>18</td>\n",
       "    </tr>\n",
       "    <tr>\n",
       "      <th>jeunes</th>\n",
       "      <td>4</td>\n",
       "      <td>4</td>\n",
       "      <td>8</td>\n",
       "      <td>0</td>\n",
       "      <td>16</td>\n",
       "    </tr>\n",
       "    <tr>\n",
       "      <th>pays</th>\n",
       "      <td>13</td>\n",
       "      <td>1</td>\n",
       "      <td>0</td>\n",
       "      <td>0</td>\n",
       "      <td>14</td>\n",
       "    </tr>\n",
       "    <tr>\n",
       "      <th>vie</th>\n",
       "      <td>2</td>\n",
       "      <td>6</td>\n",
       "      <td>1</td>\n",
       "      <td>5</td>\n",
       "      <td>14</td>\n",
       "    </tr>\n",
       "  </tbody>\n",
       "</table>\n",
       "</div>"
      ],
      "text/plain": [
       "        CULTURE  INNOVATION & TECHNOLOGIE    VIOLENCE & CONFLIT   \\\n",
       "plus          7                          9                     5   \n",
       "comme         7                          3                     6   \n",
       "jeunes        4                          4                     8   \n",
       "pays         13                          1                     0   \n",
       "vie           2                          6                     1   \n",
       "\n",
       "         ENVIRONNEMENT   Total  \n",
       "plus                  4     25  \n",
       "comme                 2     18  \n",
       "jeunes                0     16  \n",
       "pays                  0     14  \n",
       "vie                   5     14  "
      ]
     },
     "execution_count": 4,
     "metadata": {},
     "output_type": "execute_result"
    }
   ],
   "source": [
    "texto.head()"
   ]
  },
  {
   "cell_type": "code",
   "execution_count": 107,
   "id": "11641bb5",
   "metadata": {},
   "outputs": [
    {
     "name": "stdout",
     "output_type": "stream",
     "text": [
      "CULTURE                       611\n",
      "INNOVATION & TECHNOLOGIE      457\n",
      " VIOLENCE & CONFLIT           403\n",
      " ENVIRONNEMENT                293\n",
      "Total                        1764\n",
      "dtype: int64\n"
     ]
    },
    {
     "data": {
      "text/plain": [
       "Index(['CULTURE', 'INNOVATION & TECHNOLOGIE ', ' VIOLENCE & CONFLIT ',\n",
       "       ' ENVIRONNEMENT ', 'Total'],\n",
       "      dtype='object')"
      ]
     },
     "execution_count": 107,
     "metadata": {},
     "output_type": "execute_result"
    }
   ],
   "source": [
    "tot_col=texto.sum(axis=0)\n",
    "print(tot_col)\n",
    "texto.columns"
   ]
  },
  {
   "cell_type": "code",
   "execution_count": 16,
   "id": "af377cbb",
   "metadata": {},
   "outputs": [],
   "source": [
    "import matplotlib.pyplot as plt\n",
    "import numpy as np\n"
   ]
  },
  {
   "cell_type": "code",
   "execution_count": 162,
   "id": "4531a5cc",
   "metadata": {},
   "outputs": [
    {
     "name": "stdout",
     "output_type": "stream",
     "text": [
      "[[0.28       0.36       0.2        0.16      ]\n",
      " [0.38888889 0.16666667 0.33333333 0.11111111]\n",
      " [0.25       0.25       0.5        0.        ]\n",
      " [0.92857143 0.07142857 0.         0.        ]\n",
      " [0.14285714 0.42857143 0.07142857 0.35714286]\n",
      " [1.         0.         0.         0.        ]\n",
      " [0.16666667 0.16666667 0.66666667 0.        ]\n",
      " [0.5        0.08333333 0.33333333 0.08333333]\n",
      " [0.         0.36363636 0.63636364 0.        ]\n",
      " [0.36363636 0.27272727 0.36363636 0.        ]\n",
      " [0.         0.5        0.2        0.3       ]\n",
      " [0.2        0.6        0.2        0.        ]\n",
      " [0.22222222 0.44444444 0.11111111 0.22222222]\n",
      " [0.         0.11111111 0.88888889 0.        ]\n",
      " [0.11111111 0.88888889 0.         0.        ]\n",
      " [0.25       0.625      0.125      0.        ]\n",
      " [0.375      0.125      0.375      0.125     ]\n",
      " [0.14285714 0.71428571 0.         0.14285714]\n",
      " [0.         0.         1.         0.        ]\n",
      " [0.14285714 0.42857143 0.28571429 0.14285714]\n",
      " [0.57142857 0.28571429 0.14285714 0.        ]\n",
      " [0.42857143 0.42857143 0.         0.14285714]\n",
      " [0.5        0.16666667 0.33333333 0.        ]\n",
      " [0.         0.16666667 0.83333333 0.        ]\n",
      " [0.         0.         0.83333333 0.16666667]\n",
      " [0.         0.5        0.16666667 0.33333333]\n",
      " [0.         0.83333333 0.16666667 0.        ]\n",
      " [0.16666667 0.16666667 0.         0.66666667]\n",
      " [0.16666667 0.33333333 0.16666667 0.33333333]\n",
      " [0.         0.         1.         0.        ]\n",
      " [1.         0.         0.         0.        ]\n",
      " [0.2        0.6        0.2        0.        ]\n",
      " [1.         0.         0.         0.        ]\n",
      " [0.2        0.2        0.         0.6       ]\n",
      " [0.4        0.2        0.         0.4       ]]\n"
     ]
    }
   ],
   "source": [
    "texto2=texto[['CULTURE','INNOVATION & TECHNOLOGIE ',' VIOLENCE & CONFLIT ',' ENVIRONNEMENT ']].head(35)\n",
    "prof_lig=np.apply_along_axis(arr=texto2.values, axis=1,func1d=lambda x:x/np.sum(x) )\n",
    "print(prof_lig)\n",
    "texto2.to_csv('textofinal2.csv')"
   ]
  },
  {
   "cell_type": "code",
   "execution_count": 163,
   "id": "980fdc66",
   "metadata": {
    "scrolled": true
   },
   "outputs": [
    {
     "data": {
      "text/html": [
       "<div>\n",
       "<style scoped>\n",
       "    .dataframe tbody tr th:only-of-type {\n",
       "        vertical-align: middle;\n",
       "    }\n",
       "\n",
       "    .dataframe tbody tr th {\n",
       "        vertical-align: top;\n",
       "    }\n",
       "\n",
       "    .dataframe thead th {\n",
       "        text-align: right;\n",
       "    }\n",
       "</style>\n",
       "<table border=\"1\" class=\"dataframe\">\n",
       "  <thead>\n",
       "    <tr style=\"text-align: right;\">\n",
       "      <th></th>\n",
       "      <th>CULTURE</th>\n",
       "      <th>INNOVATION &amp; TECHNOLOGIE</th>\n",
       "      <th>VIOLENCE &amp; CONFLIT</th>\n",
       "      <th>ENVIRONNEMENT</th>\n",
       "    </tr>\n",
       "  </thead>\n",
       "  <tbody>\n",
       "    <tr>\n",
       "      <th>plus</th>\n",
       "      <td>7</td>\n",
       "      <td>9</td>\n",
       "      <td>5</td>\n",
       "      <td>4</td>\n",
       "    </tr>\n",
       "    <tr>\n",
       "      <th>comme</th>\n",
       "      <td>7</td>\n",
       "      <td>3</td>\n",
       "      <td>6</td>\n",
       "      <td>2</td>\n",
       "    </tr>\n",
       "    <tr>\n",
       "      <th>jeunes</th>\n",
       "      <td>4</td>\n",
       "      <td>4</td>\n",
       "      <td>8</td>\n",
       "      <td>0</td>\n",
       "    </tr>\n",
       "    <tr>\n",
       "      <th>pays</th>\n",
       "      <td>13</td>\n",
       "      <td>1</td>\n",
       "      <td>0</td>\n",
       "      <td>0</td>\n",
       "    </tr>\n",
       "    <tr>\n",
       "      <th>vie</th>\n",
       "      <td>2</td>\n",
       "      <td>6</td>\n",
       "      <td>1</td>\n",
       "      <td>5</td>\n",
       "    </tr>\n",
       "    <tr>\n",
       "      <th>canada</th>\n",
       "      <td>13</td>\n",
       "      <td>0</td>\n",
       "      <td>0</td>\n",
       "      <td>0</td>\n",
       "    </tr>\n",
       "    <tr>\n",
       "      <th>être</th>\n",
       "      <td>2</td>\n",
       "      <td>2</td>\n",
       "      <td>8</td>\n",
       "      <td>0</td>\n",
       "    </tr>\n",
       "    <tr>\n",
       "      <th>aussi</th>\n",
       "      <td>6</td>\n",
       "      <td>1</td>\n",
       "      <td>4</td>\n",
       "      <td>1</td>\n",
       "    </tr>\n",
       "    <tr>\n",
       "      <th>peut</th>\n",
       "      <td>0</td>\n",
       "      <td>4</td>\n",
       "      <td>7</td>\n",
       "      <td>0</td>\n",
       "    </tr>\n",
       "    <tr>\n",
       "      <th>monde</th>\n",
       "      <td>4</td>\n",
       "      <td>3</td>\n",
       "      <td>4</td>\n",
       "      <td>0</td>\n",
       "    </tr>\n",
       "    <tr>\n",
       "      <th>cela</th>\n",
       "      <td>0</td>\n",
       "      <td>5</td>\n",
       "      <td>2</td>\n",
       "      <td>3</td>\n",
       "    </tr>\n",
       "    <tr>\n",
       "      <th>tout</th>\n",
       "      <td>2</td>\n",
       "      <td>6</td>\n",
       "      <td>2</td>\n",
       "      <td>0</td>\n",
       "    </tr>\n",
       "    <tr>\n",
       "      <th>cette</th>\n",
       "      <td>2</td>\n",
       "      <td>4</td>\n",
       "      <td>1</td>\n",
       "      <td>2</td>\n",
       "    </tr>\n",
       "    <tr>\n",
       "      <th>violence</th>\n",
       "      <td>0</td>\n",
       "      <td>1</td>\n",
       "      <td>8</td>\n",
       "      <td>0</td>\n",
       "    </tr>\n",
       "    <tr>\n",
       "      <th>internet</th>\n",
       "      <td>1</td>\n",
       "      <td>8</td>\n",
       "      <td>0</td>\n",
       "      <td>0</td>\n",
       "    </tr>\n",
       "    <tr>\n",
       "      <th>sociaux</th>\n",
       "      <td>2</td>\n",
       "      <td>5</td>\n",
       "      <td>1</td>\n",
       "      <td>0</td>\n",
       "    </tr>\n",
       "    <tr>\n",
       "      <th>souvent</th>\n",
       "      <td>3</td>\n",
       "      <td>1</td>\n",
       "      <td>3</td>\n",
       "      <td>1</td>\n",
       "    </tr>\n",
       "    <tr>\n",
       "      <th>social</th>\n",
       "      <td>1</td>\n",
       "      <td>5</td>\n",
       "      <td>0</td>\n",
       "      <td>1</td>\n",
       "    </tr>\n",
       "    <tr>\n",
       "      <th>théâtre</th>\n",
       "      <td>0</td>\n",
       "      <td>0</td>\n",
       "      <td>7</td>\n",
       "      <td>0</td>\n",
       "    </tr>\n",
       "    <tr>\n",
       "      <th>autres</th>\n",
       "      <td>1</td>\n",
       "      <td>3</td>\n",
       "      <td>2</td>\n",
       "      <td>1</td>\n",
       "    </tr>\n",
       "    <tr>\n",
       "      <th>niveau</th>\n",
       "      <td>4</td>\n",
       "      <td>2</td>\n",
       "      <td>1</td>\n",
       "      <td>0</td>\n",
       "    </tr>\n",
       "    <tr>\n",
       "      <th>leurs</th>\n",
       "      <td>3</td>\n",
       "      <td>3</td>\n",
       "      <td>0</td>\n",
       "      <td>1</td>\n",
       "    </tr>\n",
       "    <tr>\n",
       "      <th>fait</th>\n",
       "      <td>3</td>\n",
       "      <td>1</td>\n",
       "      <td>2</td>\n",
       "      <td>0</td>\n",
       "    </tr>\n",
       "    <tr>\n",
       "      <th>quand</th>\n",
       "      <td>0</td>\n",
       "      <td>1</td>\n",
       "      <td>5</td>\n",
       "      <td>0</td>\n",
       "    </tr>\n",
       "    <tr>\n",
       "      <th>femmes</th>\n",
       "      <td>0</td>\n",
       "      <td>0</td>\n",
       "      <td>5</td>\n",
       "      <td>1</td>\n",
       "    </tr>\n",
       "    <tr>\n",
       "      <th>sans</th>\n",
       "      <td>0</td>\n",
       "      <td>3</td>\n",
       "      <td>1</td>\n",
       "      <td>2</td>\n",
       "    </tr>\n",
       "    <tr>\n",
       "      <th>réseaux</th>\n",
       "      <td>0</td>\n",
       "      <td>5</td>\n",
       "      <td>1</td>\n",
       "      <td>0</td>\n",
       "    </tr>\n",
       "    <tr>\n",
       "      <th>si</th>\n",
       "      <td>1</td>\n",
       "      <td>1</td>\n",
       "      <td>0</td>\n",
       "      <td>4</td>\n",
       "    </tr>\n",
       "    <tr>\n",
       "      <th>faire</th>\n",
       "      <td>1</td>\n",
       "      <td>2</td>\n",
       "      <td>1</td>\n",
       "      <td>2</td>\n",
       "    </tr>\n",
       "    <tr>\n",
       "      <th>filles</th>\n",
       "      <td>0</td>\n",
       "      <td>0</td>\n",
       "      <td>5</td>\n",
       "      <td>0</td>\n",
       "    </tr>\n",
       "    <tr>\n",
       "      <th>charte</th>\n",
       "      <td>5</td>\n",
       "      <td>0</td>\n",
       "      <td>0</td>\n",
       "      <td>0</td>\n",
       "    </tr>\n",
       "    <tr>\n",
       "      <th>car</th>\n",
       "      <td>1</td>\n",
       "      <td>3</td>\n",
       "      <td>1</td>\n",
       "      <td>0</td>\n",
       "    </tr>\n",
       "    <tr>\n",
       "      <th>démocratie</th>\n",
       "      <td>5</td>\n",
       "      <td>0</td>\n",
       "      <td>0</td>\n",
       "      <td>0</td>\n",
       "    </tr>\n",
       "    <tr>\n",
       "      <th>face</th>\n",
       "      <td>1</td>\n",
       "      <td>1</td>\n",
       "      <td>0</td>\n",
       "      <td>3</td>\n",
       "    </tr>\n",
       "    <tr>\n",
       "      <th>cours</th>\n",
       "      <td>2</td>\n",
       "      <td>1</td>\n",
       "      <td>0</td>\n",
       "      <td>2</td>\n",
       "    </tr>\n",
       "  </tbody>\n",
       "</table>\n",
       "</div>"
      ],
      "text/plain": [
       "            CULTURE  INNOVATION & TECHNOLOGIE    VIOLENCE & CONFLIT   \\\n",
       "plus              7                          9                     5   \n",
       "comme             7                          3                     6   \n",
       "jeunes            4                          4                     8   \n",
       "pays             13                          1                     0   \n",
       "vie               2                          6                     1   \n",
       "canada           13                          0                     0   \n",
       "être              2                          2                     8   \n",
       "aussi             6                          1                     4   \n",
       "peut              0                          4                     7   \n",
       "monde             4                          3                     4   \n",
       "cela              0                          5                     2   \n",
       "tout              2                          6                     2   \n",
       "cette             2                          4                     1   \n",
       "violence          0                          1                     8   \n",
       "internet          1                          8                     0   \n",
       "sociaux           2                          5                     1   \n",
       "souvent           3                          1                     3   \n",
       "social            1                          5                     0   \n",
       "théâtre           0                          0                     7   \n",
       "autres            1                          3                     2   \n",
       "niveau            4                          2                     1   \n",
       "leurs             3                          3                     0   \n",
       "fait              3                          1                     2   \n",
       "quand             0                          1                     5   \n",
       "femmes            0                          0                     5   \n",
       "sans              0                          3                     1   \n",
       "réseaux           0                          5                     1   \n",
       "si                1                          1                     0   \n",
       "faire             1                          2                     1   \n",
       "filles            0                          0                     5   \n",
       "charte            5                          0                     0   \n",
       "car               1                          3                     1   \n",
       "démocratie        5                          0                     0   \n",
       "face              1                          1                     0   \n",
       "cours             2                          1                     0   \n",
       "\n",
       "             ENVIRONNEMENT   \n",
       "plus                      4  \n",
       "comme                     2  \n",
       "jeunes                    0  \n",
       "pays                      0  \n",
       "vie                       5  \n",
       "canada                    0  \n",
       "être                      0  \n",
       "aussi                     1  \n",
       "peut                      0  \n",
       "monde                     0  \n",
       "cela                      3  \n",
       "tout                      0  \n",
       "cette                     2  \n",
       "violence                  0  \n",
       "internet                  0  \n",
       "sociaux                   0  \n",
       "souvent                   1  \n",
       "social                    1  \n",
       "théâtre                   0  \n",
       "autres                    1  \n",
       "niveau                    0  \n",
       "leurs                     1  \n",
       "fait                      0  \n",
       "quand                     0  \n",
       "femmes                    1  \n",
       "sans                      2  \n",
       "réseaux                   0  \n",
       "si                        4  \n",
       "faire                     2  \n",
       "filles                    0  \n",
       "charte                    0  \n",
       "car                       0  \n",
       "démocratie                0  \n",
       "face                      3  \n",
       "cours                     2  "
      ]
     },
     "execution_count": 163,
     "metadata": {},
     "output_type": "execute_result"
    }
   ],
   "source": [
    "texto2"
   ]
  },
  {
   "cell_type": "code",
   "execution_count": 164,
   "id": "71334c08",
   "metadata": {},
   "outputs": [
    {
     "data": {
      "text/plain": [
       "array([0., 0., 0., 0., 0., 0., 0., 0., 0., 0., 0., 0., 0., 0., 0., 0., 0.,\n",
       "       0., 0., 0., 0., 0., 0., 0., 0., 0., 0., 0., 0., 0., 0., 0., 0., 0.,\n",
       "       0.])"
      ]
     },
     "execution_count": 164,
     "metadata": {},
     "output_type": "execute_result"
    }
   ],
   "source": [
    "somme=numpy.zeros(shape=(prof_lig.shape[0]))\n",
    "somme"
   ]
  },
  {
   "cell_type": "code",
   "execution_count": 196,
   "id": "5c3da049",
   "metadata": {
    "scrolled": true
   },
   "outputs": [
    {
     "name": "stderr",
     "output_type": "stream",
     "text": [
      "No handles with labels found to put in legend.\n"
     ]
    },
    {
     "data": {
      "image/png": "[encoded data removed]",
      "text/plain": [
       "<Figure size 432x288 with 1 Axes>"
      ]
     },
     "metadata": {
      "needs_background": "light"
     },
     "output_type": "display_data"
    }
   ],
   "source": [
    "for i in range(prof_lig.shape[1]):\n",
    "    plt.barh(range(prof_lig.shape[0]),prof_lig[:,i],left=somme)\n",
    "    somme+=prof_lig[:,i]\n",
    "    \n",
    "plt.yticks(range(prof_lig.shape[0]),texto2.index)\n",
    "plt.show()"
   ]
  },
  {
   "cell_type": "code",
   "execution_count": 48,
   "id": "ce6c150a",
   "metadata": {},
   "outputs": [],
   "source": [
    "texto3=texto[['CULTURE','INNOVATION & TECHNOLOGIE ',' VIOLENCE & CONFLIT ',' ENVIRONNEMENT ']]"
   ]
  },
  {
   "cell_type": "code",
   "execution_count": 166,
   "id": "41d3c390",
   "metadata": {},
   "outputs": [],
   "source": [
    "tot_col=numpy.sum(texto2.values,axis=0)"
   ]
  },
  {
   "cell_type": "code",
   "execution_count": 167,
   "id": "6aa23eab",
   "metadata": {},
   "outputs": [
    {
     "data": {
      "text/plain": [
       "array([96, 94, 91, 35], dtype=int64)"
      ]
     },
     "execution_count": 167,
     "metadata": {},
     "output_type": "execute_result"
    }
   ],
   "source": [
    "tot_col"
   ]
  },
  {
   "cell_type": "code",
   "execution_count": 168,
   "id": "9b450b8a",
   "metadata": {},
   "outputs": [
    {
     "data": {
      "text/plain": [
       "array([0.30379747, 0.29746835, 0.28797468, 0.11075949])"
      ]
     },
     "execution_count": 168,
     "metadata": {},
     "output_type": "execute_result"
    }
   ],
   "source": [
    "prof_marg_lig=tot_col/numpy.sum(tot_col)\n",
    "prof_marg_lig"
   ]
  },
  {
   "cell_type": "code",
   "execution_count": 169,
   "id": "4de60024",
   "metadata": {},
   "outputs": [
    {
     "name": "stdout",
     "output_type": "stream",
     "text": [
      "2.0345959158065847\n"
     ]
    },
    {
     "data": {
      "text/plain": [
       "2.7755575615628914e-17"
      ]
     },
     "execution_count": 169,
     "metadata": {},
     "output_type": "execute_result"
    }
   ],
   "source": [
    "#distance du KHI-2 entre femmes(2) et quand(25)\n",
    "print(numpy.sum((prof_lig[0,:]-prof_lig[3,:])**2/prof_marg_lig))\n",
    "numpy.sum(prof_lig[0,:]-prof_lig[3,:])"
   ]
  },
  {
   "cell_type": "code",
   "execution_count": 170,
   "id": "daccf826",
   "metadata": {},
   "outputs": [],
   "source": [
    "#distance entre paires de modalités lignes\n",
    "distPairesLig =numpy.zeros(shape=(prof_lig.shape[0],prof_lig.shape[0]))\n",
    "#double boucle\n",
    "for i in range(prof_lig.shape[0]-1):\n",
    "    for j in range(i+1,prof_lig.shape[0]):\n",
    "        distPairesLig[i,j] =numpy.sum((prof_lig[i,:]-prof_lig[j,:])**2/prof_marg_lig)\n",
    "        #distPairesLig[j,i] = distPairesLig[i,j]"
   ]
  },
  {
   "cell_type": "code",
   "execution_count": 171,
   "id": "977dcc38",
   "metadata": {},
   "outputs": [
    {
     "name": "stdout",
     "output_type": "stream",
     "text": [
      "            plus     comme    jeunes      pays       vie    canada      être  \\\n",
      "plus         0.0  0.247995  0.587298  2.034596  0.486018  2.512109  1.155303   \n",
      "comme        0.0  0.000000  0.294765  1.486514  1.214552  1.819976  0.659852   \n",
      "jeunes       0.0  0.000000  0.000000  2.491007  1.934399  2.929801  0.142663   \n",
      "pays         0.0  0.000000  0.000000  0.000000  3.630209  0.033946  3.484646   \n",
      "vie          0.0  0.000000  0.000000  0.000000  0.000000  4.205143  2.614408   \n",
      "canada       0.0  0.000000  0.000000  0.000000  0.000000  0.000000  3.922606   \n",
      "être         0.0  0.000000  0.000000  0.000000  0.000000  0.000000  0.000000   \n",
      "aussi        0.0  0.000000  0.000000  0.000000  0.000000  0.000000  0.000000   \n",
      "peut         0.0  0.000000  0.000000  0.000000  0.000000  0.000000  0.000000   \n",
      "monde        0.0  0.000000  0.000000  0.000000  0.000000  0.000000  0.000000   \n",
      "cela         0.0  0.000000  0.000000  0.000000  0.000000  0.000000  0.000000   \n",
      "tout         0.0  0.000000  0.000000  0.000000  0.000000  0.000000  0.000000   \n",
      "cette        0.0  0.000000  0.000000  0.000000  0.000000  0.000000  0.000000   \n",
      "violence     0.0  0.000000  0.000000  0.000000  0.000000  0.000000  0.000000   \n",
      "internet     0.0  0.000000  0.000000  0.000000  0.000000  0.000000  0.000000   \n",
      "sociaux      0.0  0.000000  0.000000  0.000000  0.000000  0.000000  0.000000   \n",
      "souvent      0.0  0.000000  0.000000  0.000000  0.000000  0.000000  0.000000   \n",
      "social       0.0  0.000000  0.000000  0.000000  0.000000  0.000000  0.000000   \n",
      "théâtre      0.0  0.000000  0.000000  0.000000  0.000000  0.000000  0.000000   \n",
      "autres       0.0  0.000000  0.000000  0.000000  0.000000  0.000000  0.000000   \n",
      "niveau       0.0  0.000000  0.000000  0.000000  0.000000  0.000000  0.000000   \n",
      "leurs        0.0  0.000000  0.000000  0.000000  0.000000  0.000000  0.000000   \n",
      "fait         0.0  0.000000  0.000000  0.000000  0.000000  0.000000  0.000000   \n",
      "quand        0.0  0.000000  0.000000  0.000000  0.000000  0.000000  0.000000   \n",
      "femmes       0.0  0.000000  0.000000  0.000000  0.000000  0.000000  0.000000   \n",
      "sans         0.0  0.000000  0.000000  0.000000  0.000000  0.000000  0.000000   \n",
      "réseaux      0.0  0.000000  0.000000  0.000000  0.000000  0.000000  0.000000   \n",
      "si           0.0  0.000000  0.000000  0.000000  0.000000  0.000000  0.000000   \n",
      "faire        0.0  0.000000  0.000000  0.000000  0.000000  0.000000  0.000000   \n",
      "filles       0.0  0.000000  0.000000  0.000000  0.000000  0.000000  0.000000   \n",
      "charte       0.0  0.000000  0.000000  0.000000  0.000000  0.000000  0.000000   \n",
      "car          0.0  0.000000  0.000000  0.000000  0.000000  0.000000  0.000000   \n",
      "démocratie   0.0  0.000000  0.000000  0.000000  0.000000  0.000000  0.000000   \n",
      "face         0.0  0.000000  0.000000  0.000000  0.000000  0.000000  0.000000   \n",
      "cours        0.0  0.000000  0.000000  0.000000  0.000000  0.000000  0.000000   \n",
      "\n",
      "               aussi      peut     monde  ...      sans   réseaux        si  \\\n",
      "plus        0.531438  1.150458  0.372745  ...  0.599073  1.246227  2.624568   \n",
      "comme       0.070950  1.058575  0.154567  ...  1.413651  2.199827  3.334984   \n",
      "jeunes      0.458267  0.313711  0.108814  ...  1.804847  1.735478  4.927034   \n",
      "pays        1.053603  4.531493  1.645938  ...  4.555312  4.886146  5.953999   \n",
      "vie         1.735616  2.341218  1.690201  ...  0.120943  1.801032  1.115158   \n",
      "canada      1.294797  5.142419  2.042210  ...  5.231726  5.722641  6.391959   \n",
      "être        0.837621  0.225048  0.484395  ...  2.336264  2.453657  5.556044   \n",
      "aussi       0.000000  1.468616  0.247680  ...  2.067290  2.873032  3.847145   \n",
      "peut        0.000000  0.000000  0.721332  ...  1.831778  1.507735  5.640788   \n",
      "monde       0.000000  0.000000  0.000000  ...  1.746802  1.626498  4.637398   \n",
      "cela        0.000000  0.000000  0.000000  ...  0.013890  1.189952  1.817700   \n",
      "tout        0.000000  0.000000  0.000000  ...  1.172317  0.318551  4.786510   \n",
      "cette       0.000000  0.000000  0.000000  ...  0.295109  1.127530  2.095842   \n",
      "violence    0.000000  0.000000  0.000000  ...  3.322868  3.564768  6.858235   \n",
      "internet    0.000000  0.000000  0.000000  ...  1.648677  0.147473  5.776338   \n",
      "sociaux     0.000000  0.000000  0.000000  ...  1.267459  0.357665  4.796006   \n",
      "souvent     0.000000  0.000000  0.000000  ...  1.478212  2.441367  3.286036   \n",
      "social      0.000000  0.000000  0.000000  ...  0.645567  0.395536  3.487223   \n",
      "théâtre     0.000000  0.000000  0.000000  ...  4.255078  4.745993  7.670042   \n",
      "autres      0.000000  0.000000  0.000000  ...  0.461109  0.851402  2.993158   \n",
      "niveau      0.000000  0.000000  0.000000  ...  2.234337  2.084928  4.670490   \n",
      "leurs       0.000000  0.000000  0.000000  ...  1.045770  1.436063  2.933609   \n",
      "fait        0.000000  0.000000  0.000000  ...  2.296073  2.413466  4.764276   \n",
      "quand       0.000000  0.000000  0.000000  ...  2.920043  3.037435  6.515611   \n",
      "femmes      0.000000  0.000000  0.000000  ...  2.634565  4.128655  4.853436   \n",
      "sans        0.000000  0.000000  0.000000  ...  0.000000  1.376697  1.564591   \n",
      "réseaux     0.000000  0.000000  0.000000  ...  0.000000  0.000000  5.694683   \n",
      "si          0.000000  0.000000  0.000000  ...  0.000000  0.000000  0.000000   \n",
      "faire       0.000000  0.000000  0.000000  ...  0.000000  0.000000  0.000000   \n",
      "filles      0.000000  0.000000  0.000000  ...  0.000000  0.000000  0.000000   \n",
      "charte      0.000000  0.000000  0.000000  ...  0.000000  0.000000  0.000000   \n",
      "car         0.000000  0.000000  0.000000  ...  0.000000  0.000000  0.000000   \n",
      "démocratie  0.000000  0.000000  0.000000  ...  0.000000  0.000000  0.000000   \n",
      "face        0.000000  0.000000  0.000000  ...  0.000000  0.000000  0.000000   \n",
      "cours       0.000000  0.000000  0.000000  ...  0.000000  0.000000  0.000000   \n",
      "\n",
      "               faire    filles    charte       car  démocratie      face  \\\n",
      "plus        0.319787  3.147292  2.512109  0.445832    2.512109  1.993959   \n",
      "comme       0.798247  2.246004  1.819976  0.921894    1.819976  2.664955   \n",
      "jeunes      1.435215  1.283967  2.929801  0.732565    2.929801  4.135051   \n",
      "pays        3.241035  6.327902  0.033946  2.825390    0.033946  5.053127   \n",
      "vie         0.068973  4.830405  4.205143  1.318548    4.205143  0.736599   \n",
      "canada      3.759036  6.764194  0.000000  3.455781    0.000000  5.491420   \n",
      "être        1.964687  0.570652  3.922606  1.391150    3.922606  4.801024   \n",
      "aussi       1.236592  2.452306  1.294797  1.318070    1.294797  3.137970   \n",
      "peut        1.863789  0.903700  5.142419  0.980693    5.142419  4.878198   \n",
      "monde       1.277953  2.091536  2.042210  0.541187    2.042210  3.815384   \n",
      "cela        0.198706  3.875415  5.083565  0.977855    5.083565  1.385692   \n",
      "tout        1.249745  3.564297  3.455781  0.000000    3.455781  3.927059   \n",
      "cette       0.173843  4.016172  3.144021  0.556263    3.144021  1.533890   \n",
      "violence    3.071907  0.084373  6.076895  2.583105    6.076895  6.152239   \n",
      "internet    2.147356  6.169325  5.256983  0.445466    5.256983  4.871650   \n",
      "sociaux     1.318040  4.177548  3.218986  0.029863    3.218986  3.919981   \n",
      "souvent     0.831357  2.012945  1.967729  1.106709    1.967729  2.645112   \n",
      "social      0.913758  5.439115  4.317778  0.377814    4.317778  2.786671   \n",
      "théâtre     3.879610  0.000000  6.764194  3.564297    6.764194  6.988948   \n",
      "autres      0.409139  2.640587  3.503551  0.319310    3.503551  2.356639   \n",
      "niveau      1.552047  3.900499  0.949884  0.797508    0.949884  3.799967   \n",
      "leurs       0.680307  4.878831  1.876542  0.593923    1.876542  2.234392   \n",
      "fait        1.558755  2.459643  1.302134  0.989237    1.302134  3.936107   \n",
      "quand       2.731336  0.189840  5.796525  2.155789    5.796525  5.797165   \n",
      "femmes      2.259097  0.347253  5.953938  2.985542    5.953938  4.372977   \n",
      "sans        0.184816  4.255078  5.231726  1.172317    5.231726  1.172711   \n",
      "réseaux     1.935035  4.745993  5.722641  0.318551    5.722641  4.826828   \n",
      "si          1.193014  7.670042  6.391959  4.786510    6.391959  0.047520   \n",
      "faire       0.000000  3.879610  3.759036  1.249745    3.759036  0.801912   \n",
      "filles      0.000000  0.000000  6.764194  3.564297    6.764194  6.988948   \n",
      "charte      0.000000  0.000000  0.000000  3.455781    0.000000  5.491420   \n",
      "car         0.000000  0.000000  0.000000  0.000000    3.455781  3.927059   \n",
      "démocratie  0.000000  0.000000  0.000000  0.000000    0.000000  5.491420   \n",
      "face        0.000000  0.000000  0.000000  0.000000    0.000000  0.000000   \n",
      "cours       0.000000  0.000000  0.000000  0.000000    0.000000  0.000000   \n",
      "\n",
      "               cours  \n",
      "plus        0.792406  \n",
      "comme       1.143474  \n",
      "jeunes      2.395170  \n",
      "pays        2.419794  \n",
      "vie         0.427585  \n",
      "canada      2.764040  \n",
      "être        3.170865  \n",
      "aussi       1.369875  \n",
      "peut        3.467484  \n",
      "monde       1.925882  \n",
      "cela        1.058407  \n",
      "tout        2.253012  \n",
      "cette       0.633123  \n",
      "violence    4.741525  \n",
      "internet    3.314639  \n",
      "sociaux     2.180100  \n",
      "souvent     1.192077  \n",
      "social      1.703780  \n",
      "théâtre     5.578234  \n",
      "autres      1.273748  \n",
      "niveau      1.636872  \n",
      "leurs       0.775310  \n",
      "fait        1.867060  \n",
      "quand       4.386451  \n",
      "femmes      3.564168  \n",
      "sans        0.965806  \n",
      "réseaux     3.416113  \n",
      "si          0.824980  \n",
      "faire       0.375563  \n",
      "filles      5.578234  \n",
      "charte      2.764040  \n",
      "car         2.253012  \n",
      "démocratie  2.764040  \n",
      "face        0.492810  \n",
      "cours       0.000000  \n",
      "\n",
      "[35 rows x 35 columns]\n"
     ]
    }
   ],
   "source": [
    "#affichage\n",
    "print(pd.DataFrame(distPairesLig,index=texto2.index,columns=texto2.index))"
   ]
  },
  {
   "cell_type": "code",
   "execution_count": 172,
   "id": "b1b5ca93",
   "metadata": {},
   "outputs": [
    {
     "data": {
      "text/plain": [
       "<AxesSubplot:>"
      ]
     },
     "execution_count": 172,
     "metadata": {},
     "output_type": "execute_result"
    },
    {
     "data": {
      "image/png": "[encoded data removed]",
      "text/plain": [
       "<Figure size 432x288 with 2 Axes>"
      ]
     },
     "metadata": {
      "needs_background": "light"
     },
     "output_type": "display_data"
    }
   ],
   "source": [
    "#affichage sous forme de heatmap\n",
    "import seaborn as sns\n",
    "sns.heatmap(distPairesLig,vmin=0,vmax=numpy.max(distPairesLig),linewidth=0.1,cmap='Blues',xticklabels=texto2.index,yticklabels=texto2.index)"
   ]
  },
  {
   "cell_type": "code",
   "execution_count": 173,
   "id": "1aec4e9d",
   "metadata": {},
   "outputs": [
    {
     "name": "stdout",
     "output_type": "stream",
     "text": [
      "                   0\n",
      "plus        0.063776\n",
      "comme       0.088495\n",
      "jeunes      0.283967\n",
      "pays        1.855374\n",
      "vie         0.853953\n",
      "canada      2.291667\n",
      "être        0.728161\n",
      "aussi       0.294797\n",
      "peut        0.850753\n",
      "monde       0.144483\n",
      "cela        0.791898\n",
      "tout        0.480781\n",
      "cette       0.315317\n",
      "violence    1.785228\n",
      "internet    1.696798\n",
      "sociaux     0.573152\n",
      "souvent     0.144813\n",
      "social      0.966588\n",
      "théâtre     2.472527\n",
      "autres      0.152361\n",
      "niveau      0.420123\n",
      "leurs       0.406304\n",
      "fait        0.302134\n",
      "quand       1.504858\n",
      "femmes      1.662271\n",
      "sans        0.940059\n",
      "réseaux     1.430974\n",
      "si          3.197514\n",
      "faire       0.564591\n",
      "filles      2.472527\n",
      "charte      2.291667\n",
      "car         0.480781\n",
      "démocratie  2.291667\n",
      "face        2.516420\n",
      "cours       1.105706\n",
      "[25 18 16 14 14 13 12 12 11 11 10 10  9  9  9  8  8  7  7  7  7  7  6  6\n",
      "  6  6  6  6  6  5  5  5  5  5  5]\n"
     ]
    }
   ],
   "source": [
    "#distance à l'origine\n",
    "distoLig =numpy.apply_along_axis(arr=prof_lig,axis=1,func1d=\n",
    "                                 lambda x:numpy.sum((x\n",
    "                                                     -prof_marg_lig)\n",
    "                                                    **2/prof_marg_lig))\n",
    "#affichage\n",
    "print(pd.DataFrame(distoLig,index=texto2.index))\n",
    "#poids des lignes\n",
    "tot_lig=numpy.sum(texto2.values, axis=1)\n",
    "print(tot_lig)\n",
    "poidsLig =tot_lig/numpy.sum(tot_lig)"
   ]
  },
  {
   "cell_type": "code",
   "execution_count": 174,
   "id": "8faf05d5",
   "metadata": {},
   "outputs": [
    {
     "name": "stdout",
     "output_type": "stream",
     "text": [
      "              Disto2     Poids   Inertie\n",
      "plus        0.063776  0.079114  0.005046\n",
      "comme       0.088495  0.056962  0.005041\n",
      "jeunes      0.283967  0.050633  0.014378\n",
      "pays        1.855374  0.044304  0.082200\n",
      "vie         0.853953  0.044304  0.037833\n",
      "canada      2.291667  0.041139  0.094277\n",
      "être        0.728161  0.037975  0.027652\n",
      "aussi       0.294797  0.037975  0.011195\n",
      "peut        0.850753  0.034810  0.029615\n",
      "monde       0.144483  0.034810  0.005029\n",
      "cela        0.791898  0.031646  0.025060\n",
      "tout        0.480781  0.031646  0.015215\n",
      "cette       0.315317  0.028481  0.008981\n",
      "violence    1.785228  0.028481  0.050845\n",
      "internet    1.696798  0.028481  0.048327\n",
      "sociaux     0.573152  0.025316  0.014510\n",
      "souvent     0.144813  0.025316  0.003666\n",
      "social      0.966588  0.022152  0.021412\n",
      "théâtre     2.472527  0.022152  0.054771\n",
      "autres      0.152361  0.022152  0.003375\n",
      "niveau      0.420123  0.022152  0.009307\n",
      "leurs       0.406304  0.022152  0.009000\n",
      "fait        0.302134  0.018987  0.005737\n",
      "quand       1.504858  0.018987  0.028573\n",
      "femmes      1.662271  0.018987  0.031562\n",
      "sans        0.940059  0.018987  0.017849\n",
      "réseaux     1.430974  0.018987  0.027170\n",
      "si          3.197514  0.018987  0.060712\n",
      "faire       0.564591  0.018987  0.010720\n",
      "filles      2.472527  0.015823  0.039122\n",
      "charte      2.291667  0.015823  0.036261\n",
      "car         0.480781  0.015823  0.007607\n",
      "démocratie  2.291667  0.015823  0.036261\n",
      "face        2.516420  0.015823  0.039817\n",
      "cours       1.105706  0.015823  0.017495\n"
     ]
    }
   ],
   "source": [
    "#inertie des lignes\n",
    "inertieLig =distoLig *poidsLig\n",
    "#affichage\n",
    "print(pd.DataFrame(numpy.transpose([distoLig,poidsLig,inertieLig]),\n",
    "                   columns=['Disto2','Poids','Inertie'],index=texto2.index))"
   ]
  },
  {
   "cell_type": "code",
   "execution_count": 175,
   "id": "62e9bfc4",
   "metadata": {},
   "outputs": [
    {
     "name": "stdout",
     "output_type": "stream",
     "text": [
      "0.9356211075771296\n"
     ]
    }
   ],
   "source": [
    "#total inertie\n",
    "tot_InertieLig =numpy.sum(inertieLig)\n",
    "print(tot_InertieLig)"
   ]
  },
  {
   "cell_type": "code",
   "execution_count": 176,
   "id": "6c564433",
   "metadata": {},
   "outputs": [
    {
     "name": "stdout",
     "output_type": "stream",
     "text": [
      "[[  0.41330516   0.34486083   0.17745511]\n",
      " [ 44.17441619  36.85902646  18.96655735]\n",
      " [ 44.17441619  81.03344265 100.        ]]\n"
     ]
    }
   ],
   "source": [
    "#importation de la librairie\n",
    "from fanalysis.ca import CA\n",
    "#lancer les calculs\n",
    "afc =CA(row_labels=texto2.index,col_labels=texto2.columns)\n",
    "afc.fit(texto2.values)\n",
    "#information restituée sur les facteurs\n",
    "print(afc.eig_)"
   ]
  },
  {
   "cell_type": "code",
   "execution_count": 177,
   "id": "9eccb544",
   "metadata": {},
   "outputs": [
    {
     "name": "stdout",
     "output_type": "stream",
     "text": [
      "                   0         1         2\n",
      "plus        0.097508 -0.232851 -0.006958\n",
      "comme       0.056489  0.234410 -0.174228\n",
      "jeunes     -0.379901  0.351520  0.126793\n",
      "pays        1.150301  0.728387  0.040426\n",
      "vie         0.151672 -0.853968 -0.318885\n",
      "canada      1.245363  0.859340 -0.047666\n",
      "être       -0.699845  0.487805 -0.020602\n",
      "aussi       0.193736  0.458785 -0.216285\n",
      "peut       -0.883649  0.129689  0.230431\n",
      "monde      -0.057635  0.323348  0.191330\n",
      "cela       -0.221572 -0.850363 -0.140312\n",
      "tout       -0.070175 -0.260464  0.638760\n",
      "cette       0.155907 -0.539245 -0.015022\n",
      "violence   -1.200374  0.567666 -0.148613\n",
      "internet    0.062373 -0.770305  1.048588\n",
      "sociaux     0.090436 -0.298875  0.689672\n",
      "souvent    -0.008941  0.270878 -0.267129\n",
      "social      0.159278 -0.818403  0.520994\n",
      "théâtre    -1.339733  0.760375 -0.315392\n",
      "autres     -0.199075 -0.322864  0.092133\n",
      "niveau      0.495817  0.321388  0.266455\n",
      "leurs       0.539524 -0.294589  0.168626\n",
      "fait        0.161854  0.520793  0.068640\n",
      "quand      -1.130695  0.471311 -0.065223\n",
      "femmes     -1.066930  0.347295 -0.635073\n",
      "sans       -0.167011 -0.932979 -0.204248\n",
      "réseaux    -0.294540 -0.684947  0.935451\n",
      "si          0.391367 -1.164516 -1.299326\n",
      "faire       0.054800 -0.627420 -0.409795\n",
      "filles     -1.339733  0.760375 -0.315392\n",
      "charte      1.245363  0.859340 -0.047666\n",
      "car        -0.070175 -0.260464  0.638760\n",
      "démocratie  1.245363  0.859340 -0.047666\n",
      "face        0.410223 -1.053798 -1.112496\n",
      "cours       0.599879 -0.538309 -0.675333\n"
     ]
    }
   ],
   "source": [
    "#coordonnées des modalités lignes\n",
    "print(pd.DataFrame(afc.row_coord_,index=texto2.index))"
   ]
  },
  {
   "cell_type": "code",
   "execution_count": 178,
   "id": "45055d6e",
   "metadata": {},
   "outputs": [
    {
     "name": "stdout",
     "output_type": "stream",
     "text": [
      "-1.5612511283791264e-17\n"
     ]
    }
   ],
   "source": [
    "#vérification de la moyenne pondérée des modalités -1er facteur\n",
    "print(numpy.sum(poidsLig *afc.row_coord_[:,0]))"
   ]
  },
  {
   "cell_type": "code",
   "execution_count": 179,
   "id": "d1b286d4",
   "metadata": {},
   "outputs": [
    {
     "name": "stdout",
     "output_type": "stream",
     "text": [
      "0.41330516198478234\n"
     ]
    }
   ],
   "source": [
    "#variance des modalités -1er facteur\n",
    "print(numpy.sum(poidsLig *afc.row_coord_[:,0]**2))"
   ]
  },
  {
   "cell_type": "code",
   "execution_count": 180,
   "id": "41899137",
   "metadata": {},
   "outputs": [
    {
     "data": {
      "image/png": "[encoded data removed]",
      "text/plain": [
       "<Figure size 720x720 with 1 Axes>"
      ]
     },
     "metadata": {
      "needs_background": "light"
     },
     "output_type": "display_data"
    }
   ],
   "source": [
    "#affichage dans le premier plan factoriel\n",
    "fig, ax =plt.subplots(figsize=(10,10))\n",
    "ax.axis([-2,+2,-2,+2])\n",
    "ax.plot([-2,+2],[0,0],color='silver',linestyle='--')\n",
    "ax.plot([0,0],[-2,+2],color='silver',linestyle='--')\n",
    "ax.set_xlabel(\"Dim.1\")\n",
    "ax.set_ylabel(\"Dim.2\")\n",
    "plt.title(\"Carte des modalités lignes\")\n",
    "for i in range(texto2.shape[0]):\n",
    "    ax.text(afc.row_coord_[i,0],afc.row_coord_[i,1],texto2.index[i])\n",
    "plt.show()"
   ]
  },
  {
   "cell_type": "code",
   "execution_count": 181,
   "id": "ff59d233",
   "metadata": {},
   "outputs": [
    {
     "name": "stdout",
     "output_type": "stream",
     "text": [
      "[0.07911392 0.05696203 0.05063291 0.0443038  0.0443038  0.04113924\n",
      " 0.03797468 0.03797468 0.03481013 0.03481013 0.03164557 0.03164557\n",
      " 0.02848101 0.02848101 0.02848101 0.02531646 0.02531646 0.0221519\n",
      " 0.0221519  0.0221519  0.0221519  0.0221519  0.01898734 0.01898734\n",
      " 0.01898734 0.01898734 0.01898734 0.01898734 0.01898734 0.01582278\n",
      " 0.01582278 0.01582278 0.01582278 0.01582278 0.01582278]\n"
     ]
    }
   ],
   "source": [
    "#profil marginal des filières\n",
    "prof_marg_col =tot_lig/numpy.sum(tot_lig)\n",
    "print(prof_marg_col)"
   ]
  },
  {
   "cell_type": "code",
   "execution_count": 182,
   "id": "8e62097e",
   "metadata": {},
   "outputs": [
    {
     "name": "stdout",
     "output_type": "stream",
     "text": [
      "             CULTURE  INNOVATION & TECHNOLOGIE    VIOLENCE & CONFLIT   \\\n",
      "plus        0.072917                   0.095745              0.054945   \n",
      "comme       0.072917                   0.031915              0.065934   \n",
      "jeunes      0.041667                   0.042553              0.087912   \n",
      "pays        0.135417                   0.010638              0.000000   \n",
      "vie         0.020833                   0.063830              0.010989   \n",
      "canada      0.135417                   0.000000              0.000000   \n",
      "être        0.020833                   0.021277              0.087912   \n",
      "aussi       0.062500                   0.010638              0.043956   \n",
      "peut        0.000000                   0.042553              0.076923   \n",
      "monde       0.041667                   0.031915              0.043956   \n",
      "cela        0.000000                   0.053191              0.021978   \n",
      "tout        0.020833                   0.063830              0.021978   \n",
      "cette       0.020833                   0.042553              0.010989   \n",
      "violence    0.000000                   0.010638              0.087912   \n",
      "internet    0.010417                   0.085106              0.000000   \n",
      "sociaux     0.020833                   0.053191              0.010989   \n",
      "souvent     0.031250                   0.010638              0.032967   \n",
      "social      0.010417                   0.053191              0.000000   \n",
      "théâtre     0.000000                   0.000000              0.076923   \n",
      "autres      0.010417                   0.031915              0.021978   \n",
      "niveau      0.041667                   0.021277              0.010989   \n",
      "leurs       0.031250                   0.031915              0.000000   \n",
      "fait        0.031250                   0.010638              0.021978   \n",
      "quand       0.000000                   0.010638              0.054945   \n",
      "femmes      0.000000                   0.000000              0.054945   \n",
      "sans        0.000000                   0.031915              0.010989   \n",
      "réseaux     0.000000                   0.053191              0.010989   \n",
      "si          0.010417                   0.010638              0.000000   \n",
      "faire       0.010417                   0.021277              0.010989   \n",
      "filles      0.000000                   0.000000              0.054945   \n",
      "charte      0.052083                   0.000000              0.000000   \n",
      "car         0.010417                   0.031915              0.010989   \n",
      "démocratie  0.052083                   0.000000              0.000000   \n",
      "face        0.010417                   0.010638              0.000000   \n",
      "cours       0.020833                   0.010638              0.000000   \n",
      "\n",
      "             ENVIRONNEMENT   \n",
      "plus               0.114286  \n",
      "comme              0.057143  \n",
      "jeunes             0.000000  \n",
      "pays               0.000000  \n",
      "vie                0.142857  \n",
      "canada             0.000000  \n",
      "être               0.000000  \n",
      "aussi              0.028571  \n",
      "peut               0.000000  \n",
      "monde              0.000000  \n",
      "cela               0.085714  \n",
      "tout               0.000000  \n",
      "cette              0.057143  \n",
      "violence           0.000000  \n",
      "internet           0.000000  \n",
      "sociaux            0.000000  \n",
      "souvent            0.028571  \n",
      "social             0.028571  \n",
      "théâtre            0.000000  \n",
      "autres             0.028571  \n",
      "niveau             0.000000  \n",
      "leurs              0.028571  \n",
      "fait               0.000000  \n",
      "quand              0.000000  \n",
      "femmes             0.028571  \n",
      "sans               0.057143  \n",
      "réseaux            0.000000  \n",
      "si                 0.114286  \n",
      "faire              0.057143  \n",
      "filles             0.000000  \n",
      "charte             0.000000  \n",
      "car                0.000000  \n",
      "démocratie         0.000000  \n",
      "face               0.085714  \n",
      "cours              0.057143  \n"
     ]
    }
   ],
   "source": [
    "#tableau des profils colonnes\n",
    "prof_col =numpy.apply_along_axis(arr=texto2.values,axis=0,func1d=lambda x:x/numpy.sum(x))\n",
    "print(pd.DataFrame(prof_col,index=texto2.index,columns=texto2.columns))"
   ]
  },
  {
   "cell_type": "code",
   "execution_count": 183,
   "id": "5c70bb45",
   "metadata": {},
   "outputs": [
    {
     "name": "stdout",
     "output_type": "stream",
     "text": [
      "                                  0\n",
      "CULTURE                    0.896078\n",
      "INNOVATION & TECHNOLOGIE   0.579638\n",
      " VIOLENCE & CONFLIT        0.958875\n",
      " ENVIRONNEMENT             1.939691\n"
     ]
    }
   ],
   "source": [
    "#distance**2 à l'orgine\n",
    "distoCol =numpy.apply_along_axis(arr=prof_col,axis=0,func1d=lambda x:numpy.sum((x-prof_marg_col)**2/prof_marg_col))\n",
    "#affichage\n",
    "print(pd.DataFrame(distoCol,index=texto2.columns))"
   ]
  },
  {
   "cell_type": "code",
   "execution_count": 184,
   "id": "47111775",
   "metadata": {},
   "outputs": [
    {
     "name": "stdout",
     "output_type": "stream",
     "text": [
      "                                  0\n",
      "CULTURE                    0.303797\n",
      "INNOVATION & TECHNOLOGIE   0.297468\n",
      " VIOLENCE & CONFLIT        0.287975\n",
      " ENVIRONNEMENT             0.110759\n"
     ]
    }
   ],
   "source": [
    "#poids de chaque colonne\n",
    "poidsCol =tot_col/numpy.sum(tot_col)\n",
    "print(pd.DataFrame(poidsCol,index=texto2.columns))"
   ]
  },
  {
   "cell_type": "code",
   "execution_count": 185,
   "id": "a5781ef3",
   "metadata": {},
   "outputs": [
    {
     "name": "stdout",
     "output_type": "stream",
     "text": [
      "                                  0\n",
      "CULTURE                    0.272226\n",
      "INNOVATION & TECHNOLOGIE   0.172424\n",
      " VIOLENCE & CONFLIT        0.276132\n",
      " ENVIRONNEMENT             0.214839\n"
     ]
    }
   ],
   "source": [
    "#inertie\n",
    "inertieCol =distoCol*poidsCol\n",
    "print(pd.DataFrame(inertieCol,index=texto2.columns))\n"
   ]
  },
  {
   "cell_type": "code",
   "execution_count": 186,
   "id": "6894c26d",
   "metadata": {},
   "outputs": [
    {
     "name": "stdout",
     "output_type": "stream",
     "text": [
      "                                  0         1         2\n",
      "CULTURE                    0.800629  0.504646 -0.020079\n",
      "INNOVATION & TECHNOLOGIE  -0.054968 -0.571987  0.499447\n",
      " VIOLENCE & CONFLIT       -0.861299  0.446529 -0.132860\n",
      " ENVIRONNEMENT             0.190992 -1.008956 -0.940862\n"
     ]
    }
   ],
   "source": [
    "#coordonnées des filières\n",
    "print(pd.DataFrame(afc.col_coord_,index=texto2.columns))"
   ]
  },
  {
   "cell_type": "code",
   "execution_count": 187,
   "id": "470296ed",
   "metadata": {},
   "outputs": [
    {
     "data": {
      "image/png": "[encoded data removed]",
      "text/plain": [
       "<Figure size 720x720 with 1 Axes>"
      ]
     },
     "metadata": {
      "needs_background": "light"
     },
     "output_type": "display_data"
    }
   ],
   "source": [
    "#affichage dans le premier plan factoriel\n",
    "fig, ax =plt.subplots(figsize=(10,10))\n",
    "ax.axis([-2,+2,-2,+2])\n",
    "ax.plot([-2,+2],[0,0],color='silver',linestyle='--')\n",
    "ax.plot([0,0],[-2,+2],color='silver',linestyle='--')\n",
    "ax.set_xlabel(\"Dim.1\")\n",
    "ax.set_ylabel(\"Dim.2\")\n",
    "plt.title(\"Carte des modalités colonnes\")\n",
    "for i in range(texto2.shape[1]):\n",
    "    ax.text(afc.col_coord_[i,0],afc.col_coord_[i,1],texto2.columns[i])\n",
    "plt.show()"
   ]
  },
  {
   "cell_type": "code",
   "execution_count": 188,
   "id": "687d48ce",
   "metadata": {},
   "outputs": [
    {
     "name": "stdout",
     "output_type": "stream",
     "text": [
      "316\n"
     ]
    }
   ],
   "source": [
    "#effectifs totaux\n",
    "n =numpy.sum(texto2.values)\n",
    "tot_col=numpy.sum(texto2.values,axis=0)\n",
    "print(n)\n",
    "\n"
   ]
  },
  {
   "cell_type": "code",
   "execution_count": 189,
   "id": "c47609d9",
   "metadata": {},
   "outputs": [
    {
     "name": "stdout",
     "output_type": "stream",
     "text": [
      "[25 18 16 14 14 13 12 12 11 11 10 10  9  9  9  8  8  7  7  7  7  7  6  6\n",
      "  6  6  6  6  6  5  5  5  5  5  5]\n",
      "[[7.59493671 7.43670886 7.19936709 2.76898734]\n",
      " [5.46835443 5.35443038 5.1835443  1.99367089]\n",
      " [4.86075949 4.75949367 4.60759494 1.7721519 ]\n",
      " [4.25316456 4.16455696 4.03164557 1.55063291]\n",
      " [4.25316456 4.16455696 4.03164557 1.55063291]\n",
      " [3.94936709 3.86708861 3.74367089 1.43987342]\n",
      " [3.64556962 3.56962025 3.4556962  1.32911392]\n",
      " [3.64556962 3.56962025 3.4556962  1.32911392]\n",
      " [3.34177215 3.2721519  3.16772152 1.21835443]\n",
      " [3.34177215 3.2721519  3.16772152 1.21835443]\n",
      " [3.03797468 2.97468354 2.87974684 1.10759494]\n",
      " [3.03797468 2.97468354 2.87974684 1.10759494]\n",
      " [2.73417722 2.67721519 2.59177215 0.99683544]\n",
      " [2.73417722 2.67721519 2.59177215 0.99683544]\n",
      " [2.73417722 2.67721519 2.59177215 0.99683544]\n",
      " [2.43037975 2.37974684 2.30379747 0.88607595]\n",
      " [2.43037975 2.37974684 2.30379747 0.88607595]\n",
      " [2.12658228 2.08227848 2.01582278 0.77531646]\n",
      " [2.12658228 2.08227848 2.01582278 0.77531646]\n",
      " [2.12658228 2.08227848 2.01582278 0.77531646]\n",
      " [2.12658228 2.08227848 2.01582278 0.77531646]\n",
      " [2.12658228 2.08227848 2.01582278 0.77531646]\n",
      " [1.82278481 1.78481013 1.7278481  0.66455696]\n",
      " [1.82278481 1.78481013 1.7278481  0.66455696]\n",
      " [1.82278481 1.78481013 1.7278481  0.66455696]\n",
      " [1.82278481 1.78481013 1.7278481  0.66455696]\n",
      " [1.82278481 1.78481013 1.7278481  0.66455696]\n",
      " [1.82278481 1.78481013 1.7278481  0.66455696]\n",
      " [1.82278481 1.78481013 1.7278481  0.66455696]\n",
      " [1.51898734 1.48734177 1.43987342 0.55379747]\n",
      " [1.51898734 1.48734177 1.43987342 0.55379747]\n",
      " [1.51898734 1.48734177 1.43987342 0.55379747]\n",
      " [1.51898734 1.48734177 1.43987342 0.55379747]\n",
      " [1.51898734 1.48734177 1.43987342 0.55379747]\n",
      " [1.51898734 1.48734177 1.43987342 0.55379747]]\n"
     ]
    }
   ],
   "source": [
    "#tableau sous indépendance\n",
    "print(tot_lig)\n",
    "E =numpy.dot(numpy.reshape(tot_lig,(35,1)),numpy.reshape(tot_col,(1,4)))/n\n",
    "print(E)"
   ]
  },
  {
   "cell_type": "code",
   "execution_count": 190,
   "id": "e1d71f3d",
   "metadata": {},
   "outputs": [
    {
     "name": "stdout",
     "output_type": "stream",
     "text": [
      "295.6562699943729\n",
      "102\n",
      "0.0\n"
     ]
    }
   ],
   "source": [
    "#statistique du KHI-2\n",
    "KHI2 =numpy.sum(((texto2.values-E)**2)/E)\n",
    "print(KHI2)\n",
    "#degré de liberté\n",
    "ddl =(E.shape[0]-1)*(E.shape[1]-1)\n",
    "print(ddl)\n",
    "#librairie scipy pour calcul des CDF\n",
    "import scipy\n",
    "#p-value du test\n",
    "print(1-scipy.stats.chi2.cdf(KHI2,ddl))"
   ]
  },
  {
   "cell_type": "code",
   "execution_count": 195,
   "id": "5b998cd3",
   "metadata": {},
   "outputs": [
    {
     "data": {
      "image/png": "[encoded data removed]",
      "text/plain": [
       "<Figure size 720x720 with 1 Axes>"
      ]
     },
     "metadata": {
      "needs_background": "light"
     },
     "output_type": "display_data"
    },
    {
     "data": {
      "text/plain": [
       "<Figure size 432x288 with 0 Axes>"
      ]
     },
     "metadata": {},
     "output_type": "display_data"
    }
   ],
   "source": [
    "#représentation simultanée\n",
    "fig, ax =plt.subplots(figsize=(10,10))\n",
    "ax.axis([-2,+2,-2,+2])\n",
    "ax.plot([-2,+2],[0,0],color='silver',linestyle='--')\n",
    "ax.plot([0,0],[-2,+2],color='silver',linestyle='--')\n",
    "ax.set_xlabel(\"Dim.1\")\n",
    "ax.set_ylabel(\"Dim.2\")\n",
    "plt.title(\"Carte des modalités lignes et colonnes\")\n",
    "#modalités ligne\n",
    "for i in range(texto2.shape[0]):\n",
    "    ax.text(afc.row_coord_[i,0],afc.row_coord_[i,1],texto2.index[i],color='blue')\n",
    "    #modalités colonne\n",
    "for i in range(texto2.shape[1]):\n",
    "    ax.text(afc.col_coord_[i,0],afc.col_coord_[i,1],texto2.columns[i],color='green')\n",
    "plt.show()\n",
    "plt.savefig(\"AFC texto\")"
   ]
  },
  {
   "cell_type": "code",
   "execution_count": null,
   "id": "67ecb994",
   "metadata": {},
   "outputs": [],
   "source": []
  }
 ],
 "metadata": {
  "kernelspec": {
   "display_name": "Python 3",
   "language": "python",
   "name": "python3"
  },
  "language_info": {
   "codemirror_mode": {
    "name": "ipython",
    "version": 3
   },
   "file_extension": ".py",
   "mimetype": "text/x-python",
   "name": "python",
   "nbconvert_exporter": "python",
   "pygments_lexer": "ipython3",
   "version": "3.8.8"
  }
 },
 "nbformat": 4,
 "nbformat_minor": 5
}
